{
 "cells": [
  {
   "cell_type": "markdown",
   "id": "cdc925d0",
   "metadata": {},
   "source": [
    "GOOG, AMZN, JPM, GME, XOM, and the SPY"
   ]
  },
  {
   "cell_type": "code",
   "execution_count": 1,
   "id": "cb437c43",
   "metadata": {},
   "outputs": [],
   "source": [
    "import yfinance as yf\n",
    "import pandas as pd"
   ]
  },
  {
   "cell_type": "code",
   "execution_count": 2,
   "id": "111f2f4e",
   "metadata": {},
   "outputs": [
    {
     "name": "stdout",
     "output_type": "stream",
     "text": [
      "[*********************100%%**********************]  1 of 1 completed\n",
      "                  Open        High         Low       Close   Adj Close  \\\n",
      "Date                                                                     \n",
      "2000-01-03   49.833332   50.250000   48.083332   48.583332   24.062206   \n",
      "2000-01-04   47.083332   47.458332   46.125000   47.250000   23.534258   \n",
      "2000-01-05   46.833332   48.375000   46.000000   46.958332   23.388977   \n",
      "2000-01-06   46.750000   48.625000   46.500000   47.625000   23.721024   \n",
      "2000-01-07   48.416668   49.000000   47.333332   48.500000   24.156849   \n",
      "...                ...         ...         ...         ...         ...   \n",
      "2023-11-24  153.589996  154.440002  153.279999  153.539993  153.539993   \n",
      "2023-11-27  153.429993  153.529999  152.710007  153.190002  153.190002   \n",
      "2023-11-28  153.220001  153.869995  152.720001  153.539993  153.539993   \n",
      "2023-11-29  154.169998  155.630005  154.000000  154.320007  154.320007   \n",
      "2023-11-30  154.910004  156.130005  154.380005  156.080002  156.080002   \n",
      "\n",
      "              Volume  \n",
      "Date                  \n",
      "2000-01-03  12019200  \n",
      "2000-01-04  11723400  \n",
      "2000-01-05   8714550  \n",
      "2000-01-06   8369250  \n",
      "2000-01-07   6571950  \n",
      "...              ...  \n",
      "2023-11-24   3496900  \n",
      "2023-11-27   6259100  \n",
      "2023-11-28   6582700  \n",
      "2023-11-29   9126100  \n",
      "2023-11-30   9869800  \n",
      "\n",
      "[6017 rows x 6 columns]\n"
     ]
    }
   ],
   "source": [
    "# Replace 'AAPL' with the stock symbol of your choice\n",
    "symbol = 'JPM'\n",
    "\n",
    "# Specify the start and end dates for historical data\n",
    "start_date = '2000-01-01'\n",
    "end_date = '2023-12-01'\n",
    "\n",
    "# Fetch historical data\n",
    "data = yf.download(symbol, start=start_date, end=end_date)\n",
    "data.to_csv(\"/Users/mac/Desktop/millennium/\"+symbol+\".csv\")\n",
    "print(data)\n"
   ]
  },
  {
   "cell_type": "code",
   "execution_count": 6,
   "id": "2e49b8d3",
   "metadata": {},
   "outputs": [],
   "source": [
    "null = data[\"Close\"] - data[\"Adj Close\"]"
   ]
  },
  {
   "cell_type": "code",
   "execution_count": 7,
   "id": "0fd704de",
   "metadata": {},
   "outputs": [
    {
     "data": {
      "text/plain": [
       "Date\n",
       "2002-02-13    0.820834\n",
       "2002-02-14    0.816750\n",
       "2002-02-15    0.812665\n",
       "2002-02-19    0.779996\n",
       "2002-02-20    0.806541\n",
       "                ...   \n",
       "2019-03-07    0.095082\n",
       "2019-03-08    0.089996\n",
       "2019-03-11    0.092375\n",
       "2019-03-12    0.094098\n",
       "2019-03-13    0.095000\n",
       "Length: 4299, dtype: float64"
      ]
     },
     "execution_count": 7,
     "metadata": {},
     "output_type": "execute_result"
    }
   ],
   "source": [
    "null[null != 0]"
   ]
  },
  {
   "cell_type": "markdown",
   "id": "4d9449b8",
   "metadata": {},
   "source": [
    "# account for stock split"
   ]
  },
  {
   "cell_type": "markdown",
   "id": "d78dcea5",
   "metadata": {},
   "source": [
    "Google:\n",
    "\n",
    "On April 3, 2014, shareholders of GOOGL received 1998 shares in exchange for every 1000 shares they owned.\n",
    "On July 18, 2022, GOOGL split 20:1, so for every share held, the shareholder received 20 shares."
   ]
  },
  {
   "cell_type": "markdown",
   "id": "3f89a3e0",
   "metadata": {},
   "source": [
    "JPM:\n",
    "\n",
    "JPMorgan Chase stock underwent a total of 4 stock splits. The most recent stock split occured on June 12th, 2000\n",
    "the split is 3:2. \n"
   ]
  },
  {
   "cell_type": "markdown",
   "id": "56340d7c",
   "metadata": {},
   "source": [
    "AMZN:\n",
    "\n",
    "AMZN underwent a total of 4 stock splits. The most recent stock split occured on 2022-06-06\n",
    "the split is 20:1. "
   ]
  },
  {
   "cell_type": "markdown",
   "id": "7a424fa1",
   "metadata": {},
   "source": [
    "GME: \n",
    "    \n",
    "GameStop stock (symbol: GME) underwent a total of 2 stock splits.\n",
    "The most recent stock split occured on July 22nd, 2022. the split is 4:1\n",
    "The second recent stock split occured on March 19nd, 2007. the split is 2:1\n"
   ]
  },
  {
   "cell_type": "markdown",
   "id": "cdd876d2",
   "metadata": {},
   "source": [
    "XOM:\n",
    "    \n",
    "Exxon Mobil stock (symbol: XOM) underwent a total of 5 stock splits. The most recent stock split occured on July 19th, 2001.\n",
    "the split is 2:1"
   ]
  },
  {
   "cell_type": "markdown",
   "id": "b96d9a9d",
   "metadata": {},
   "source": [
    "SPY:\n",
    "\n",
    "SPY underwent no stock splits."
   ]
  },
  {
   "cell_type": "markdown",
   "id": "cb0b6428",
   "metadata": {},
   "source": [
    "# deal with missing values\n"
   ]
  },
  {
   "cell_type": "code",
   "execution_count": 8,
   "id": "224be63a",
   "metadata": {},
   "outputs": [],
   "source": [
    "SPY = pd.read_csv(\"SPY.csv\")\n",
    "GOOG = pd.read_csv(\"GOOG.csv\")\n",
    "JPM = pd.read_csv(\"JPM.csv\")\n",
    "XOM = pd.read_csv(\"XOM.csv\")\n",
    "GME = pd.read_csv(\"GME.csv\")\n",
    "AMZN = pd.read_csv(\"AMZN.csv\")"
   ]
  },
  {
   "cell_type": "code",
   "execution_count": 9,
   "id": "afe04c79",
   "metadata": {},
   "outputs": [
    {
     "data": {
      "text/plain": [
       "True"
      ]
     },
     "execution_count": 9,
     "metadata": {},
     "output_type": "execute_result"
    }
   ],
   "source": [
    "len(SPY) == len(SPY.dropna())"
   ]
  },
  {
   "cell_type": "code",
   "execution_count": 10,
   "id": "3775d884",
   "metadata": {},
   "outputs": [
    {
     "data": {
      "text/plain": [
       "True"
      ]
     },
     "execution_count": 10,
     "metadata": {},
     "output_type": "execute_result"
    }
   ],
   "source": [
    "len(GOOG) == len(GOOG.dropna())"
   ]
  },
  {
   "cell_type": "code",
   "execution_count": 11,
   "id": "d80f1bc0",
   "metadata": {},
   "outputs": [
    {
     "data": {
      "text/plain": [
       "True"
      ]
     },
     "execution_count": 11,
     "metadata": {},
     "output_type": "execute_result"
    }
   ],
   "source": [
    "len(JPM) == len(JPM.dropna())"
   ]
  },
  {
   "cell_type": "code",
   "execution_count": 12,
   "id": "6beee3cb",
   "metadata": {},
   "outputs": [
    {
     "data": {
      "text/plain": [
       "True"
      ]
     },
     "execution_count": 12,
     "metadata": {},
     "output_type": "execute_result"
    }
   ],
   "source": [
    "len(XOM) == len(XOM.dropna())"
   ]
  },
  {
   "cell_type": "code",
   "execution_count": 13,
   "id": "c90a111f",
   "metadata": {},
   "outputs": [
    {
     "data": {
      "text/plain": [
       "True"
      ]
     },
     "execution_count": 13,
     "metadata": {},
     "output_type": "execute_result"
    }
   ],
   "source": [
    "len(GME) == len(GME.dropna())"
   ]
  },
  {
   "cell_type": "code",
   "execution_count": 14,
   "id": "7d413fbe",
   "metadata": {},
   "outputs": [
    {
     "data": {
      "text/plain": [
       "True"
      ]
     },
     "execution_count": 14,
     "metadata": {},
     "output_type": "execute_result"
    }
   ],
   "source": [
    "len(AMZN) == len(AMZN.dropna())"
   ]
  },
  {
   "cell_type": "markdown",
   "id": "b59299e3",
   "metadata": {},
   "source": [
    "so there is no missing value for the AMZN,GME,GOOG,JPM,XOM"
   ]
  },
  {
   "cell_type": "markdown",
   "id": "4e9784dd",
   "metadata": {},
   "source": [
    "# check if there is missing trading day"
   ]
  },
  {
   "cell_type": "code",
   "execution_count": 15,
   "id": "66b8f86a",
   "metadata": {},
   "outputs": [],
   "source": [
    "SPY_date = [ x for x in SPY.Date]\n",
    "XOM_date = [x for x in XOM.Date]\n",
    "JPM_date = [x for x in JPM.Date]\n",
    "GOOG_date = [x for x in GOOG.Date]\n",
    "GME_date = [x for x in GME.Date]\n",
    "AMZN_date = [x for x in AMZN.Date]"
   ]
  },
  {
   "cell_type": "code",
   "execution_count": 17,
   "id": "429bc2e6",
   "metadata": {},
   "outputs": [],
   "source": [
    "XOM_ = SPY[SPY.Date >= XOM_date[0]]"
   ]
  },
  {
   "cell_type": "code",
   "execution_count": 18,
   "id": "7aa366a8",
   "metadata": {},
   "outputs": [],
   "source": [
    "JPM_ = SPY[SPY.Date >= JPM_date[0]]"
   ]
  },
  {
   "cell_type": "code",
   "execution_count": 19,
   "id": "b8c7795f",
   "metadata": {},
   "outputs": [],
   "source": [
    "GOOG_ = SPY[SPY.Date >= GOOG_date[0]]"
   ]
  },
  {
   "cell_type": "code",
   "execution_count": 20,
   "id": "a5a66754",
   "metadata": {},
   "outputs": [],
   "source": [
    "GME_ = SPY[SPY.Date >= GME_date[0]]"
   ]
  },
  {
   "cell_type": "code",
   "execution_count": 21,
   "id": "e354af72",
   "metadata": {},
   "outputs": [],
   "source": [
    "AMZN_ = SPY[SPY.Date >= AMZN_date[0]]"
   ]
  },
  {
   "cell_type": "code",
   "execution_count": 22,
   "id": "64a14e2e",
   "metadata": {},
   "outputs": [
    {
     "data": {
      "text/html": [
       "<div>\n",
       "<style scoped>\n",
       "    .dataframe tbody tr th:only-of-type {\n",
       "        vertical-align: middle;\n",
       "    }\n",
       "\n",
       "    .dataframe tbody tr th {\n",
       "        vertical-align: top;\n",
       "    }\n",
       "\n",
       "    .dataframe thead th {\n",
       "        text-align: right;\n",
       "    }\n",
       "</style>\n",
       "<table border=\"1\" class=\"dataframe\">\n",
       "  <thead>\n",
       "    <tr style=\"text-align: right;\">\n",
       "      <th></th>\n",
       "      <th>Date</th>\n",
       "      <th>Open</th>\n",
       "      <th>High</th>\n",
       "      <th>Low</th>\n",
       "      <th>Close</th>\n",
       "      <th>Adj Close</th>\n",
       "      <th>Volume</th>\n",
       "    </tr>\n",
       "  </thead>\n",
       "  <tbody>\n",
       "    <tr>\n",
       "      <th>529</th>\n",
       "      <td>2002-02-13</td>\n",
       "      <td>111.480003</td>\n",
       "      <td>112.540001</td>\n",
       "      <td>111.349998</td>\n",
       "      <td>112.269997</td>\n",
       "      <td>74.170570</td>\n",
       "      <td>16781100</td>\n",
       "    </tr>\n",
       "    <tr>\n",
       "      <th>530</th>\n",
       "      <td>2002-02-14</td>\n",
       "      <td>112.510002</td>\n",
       "      <td>112.970001</td>\n",
       "      <td>111.589996</td>\n",
       "      <td>112.059998</td>\n",
       "      <td>74.031860</td>\n",
       "      <td>20453800</td>\n",
       "    </tr>\n",
       "    <tr>\n",
       "      <th>531</th>\n",
       "      <td>2002-02-15</td>\n",
       "      <td>112.150002</td>\n",
       "      <td>112.239998</td>\n",
       "      <td>110.709999</td>\n",
       "      <td>110.889999</td>\n",
       "      <td>73.258896</td>\n",
       "      <td>18366800</td>\n",
       "    </tr>\n",
       "    <tr>\n",
       "      <th>532</th>\n",
       "      <td>2002-02-19</td>\n",
       "      <td>110.150002</td>\n",
       "      <td>110.290001</td>\n",
       "      <td>108.610001</td>\n",
       "      <td>108.760002</td>\n",
       "      <td>71.851768</td>\n",
       "      <td>15988100</td>\n",
       "    </tr>\n",
       "    <tr>\n",
       "      <th>533</th>\n",
       "      <td>2002-02-20</td>\n",
       "      <td>109.050003</td>\n",
       "      <td>110.589996</td>\n",
       "      <td>107.820000</td>\n",
       "      <td>110.589996</td>\n",
       "      <td>73.060699</td>\n",
       "      <td>29242800</td>\n",
       "    </tr>\n",
       "    <tr>\n",
       "      <th>...</th>\n",
       "      <td>...</td>\n",
       "      <td>...</td>\n",
       "      <td>...</td>\n",
       "      <td>...</td>\n",
       "      <td>...</td>\n",
       "      <td>...</td>\n",
       "      <td>...</td>\n",
       "    </tr>\n",
       "    <tr>\n",
       "      <th>6012</th>\n",
       "      <td>2023-11-24</td>\n",
       "      <td>455.070007</td>\n",
       "      <td>455.500000</td>\n",
       "      <td>454.730011</td>\n",
       "      <td>455.299988</td>\n",
       "      <td>453.461456</td>\n",
       "      <td>29737400</td>\n",
       "    </tr>\n",
       "    <tr>\n",
       "      <th>6013</th>\n",
       "      <td>2023-11-27</td>\n",
       "      <td>454.649994</td>\n",
       "      <td>455.489990</td>\n",
       "      <td>454.079987</td>\n",
       "      <td>454.480011</td>\n",
       "      <td>452.644806</td>\n",
       "      <td>50506000</td>\n",
       "    </tr>\n",
       "    <tr>\n",
       "      <th>6014</th>\n",
       "      <td>2023-11-28</td>\n",
       "      <td>454.079987</td>\n",
       "      <td>456.269989</td>\n",
       "      <td>453.500000</td>\n",
       "      <td>454.929993</td>\n",
       "      <td>453.092957</td>\n",
       "      <td>62115000</td>\n",
       "    </tr>\n",
       "    <tr>\n",
       "      <th>6015</th>\n",
       "      <td>2023-11-29</td>\n",
       "      <td>457.149994</td>\n",
       "      <td>458.320007</td>\n",
       "      <td>454.200012</td>\n",
       "      <td>454.609985</td>\n",
       "      <td>452.774261</td>\n",
       "      <td>63146000</td>\n",
       "    </tr>\n",
       "    <tr>\n",
       "      <th>6016</th>\n",
       "      <td>2023-11-30</td>\n",
       "      <td>455.480011</td>\n",
       "      <td>456.760010</td>\n",
       "      <td>453.339996</td>\n",
       "      <td>456.399994</td>\n",
       "      <td>454.557037</td>\n",
       "      <td>79752700</td>\n",
       "    </tr>\n",
       "  </tbody>\n",
       "</table>\n",
       "<p>5488 rows × 7 columns</p>\n",
       "</div>"
      ],
      "text/plain": [
       "            Date        Open        High         Low       Close   Adj Close  \\\n",
       "529   2002-02-13  111.480003  112.540001  111.349998  112.269997   74.170570   \n",
       "530   2002-02-14  112.510002  112.970001  111.589996  112.059998   74.031860   \n",
       "531   2002-02-15  112.150002  112.239998  110.709999  110.889999   73.258896   \n",
       "532   2002-02-19  110.150002  110.290001  108.610001  108.760002   71.851768   \n",
       "533   2002-02-20  109.050003  110.589996  107.820000  110.589996   73.060699   \n",
       "...          ...         ...         ...         ...         ...         ...   \n",
       "6012  2023-11-24  455.070007  455.500000  454.730011  455.299988  453.461456   \n",
       "6013  2023-11-27  454.649994  455.489990  454.079987  454.480011  452.644806   \n",
       "6014  2023-11-28  454.079987  456.269989  453.500000  454.929993  453.092957   \n",
       "6015  2023-11-29  457.149994  458.320007  454.200012  454.609985  452.774261   \n",
       "6016  2023-11-30  455.480011  456.760010  453.339996  456.399994  454.557037   \n",
       "\n",
       "        Volume  \n",
       "529   16781100  \n",
       "530   20453800  \n",
       "531   18366800  \n",
       "532   15988100  \n",
       "533   29242800  \n",
       "...        ...  \n",
       "6012  29737400  \n",
       "6013  50506000  \n",
       "6014  62115000  \n",
       "6015  63146000  \n",
       "6016  79752700  \n",
       "\n",
       "[5488 rows x 7 columns]"
      ]
     },
     "execution_count": 22,
     "metadata": {},
     "output_type": "execute_result"
    }
   ],
   "source": [
    "GME_"
   ]
  },
  {
   "cell_type": "code",
   "execution_count": 26,
   "id": "5b965869",
   "metadata": {},
   "outputs": [
    {
     "data": {
      "text/plain": [
       "set()"
      ]
     },
     "execution_count": 26,
     "metadata": {},
     "output_type": "execute_result"
    }
   ],
   "source": [
    "set(XOM_.Date)-set(XOM.Date)"
   ]
  },
  {
   "cell_type": "code",
   "execution_count": 27,
   "id": "72b14235",
   "metadata": {},
   "outputs": [
    {
     "data": {
      "text/plain": [
       "set()"
      ]
     },
     "execution_count": 27,
     "metadata": {},
     "output_type": "execute_result"
    }
   ],
   "source": [
    "set(JPM_.Date)-set(JPM.Date)"
   ]
  },
  {
   "cell_type": "code",
   "execution_count": 28,
   "id": "e49b777b",
   "metadata": {},
   "outputs": [
    {
     "data": {
      "text/plain": [
       "set()"
      ]
     },
     "execution_count": 28,
     "metadata": {},
     "output_type": "execute_result"
    }
   ],
   "source": [
    "set(GOOG_.Date)-set(GOOG.Date)"
   ]
  },
  {
   "cell_type": "code",
   "execution_count": 29,
   "id": "506adf39",
   "metadata": {},
   "outputs": [
    {
     "data": {
      "text/plain": [
       "set()"
      ]
     },
     "execution_count": 29,
     "metadata": {},
     "output_type": "execute_result"
    }
   ],
   "source": [
    "set(GME_.Date)-set(GME.Date)"
   ]
  },
  {
   "cell_type": "code",
   "execution_count": 33,
   "id": "56f46ef3",
   "metadata": {},
   "outputs": [
    {
     "data": {
      "text/plain": [
       "set()"
      ]
     },
     "execution_count": 33,
     "metadata": {},
     "output_type": "execute_result"
    }
   ],
   "source": [
    "set(AMZN_.Date)-set(AMZN.Date)"
   ]
  },
  {
   "cell_type": "markdown",
   "id": "b55fde32",
   "metadata": {},
   "source": [
    "so there is no trading suspension in AMZN,GME,GOOG,JPM,XOM."
   ]
  },
  {
   "cell_type": "markdown",
   "id": "5cba7657",
   "metadata": {},
   "source": [
    "#  outliers and anomalies test"
   ]
  },
  {
   "cell_type": "code",
   "execution_count": 39,
   "id": "b22f9a1e",
   "metadata": {},
   "outputs": [],
   "source": [
    "import seaborn as sns\n",
    "import matplotlib.pyplot as plt"
   ]
  },
  {
   "cell_type": "markdown",
   "id": "af32596f",
   "metadata": {},
   "source": [
    "AMZN"
   ]
  },
  {
   "cell_type": "code",
   "execution_count": 40,
   "id": "d3dbce44",
   "metadata": {},
   "outputs": [
    {
     "data": {
      "text/plain": [
       "<Axes: >"
      ]
     },
     "execution_count": 40,
     "metadata": {},
     "output_type": "execute_result"
    },
    {
     "data": {
      "image/png": "[encoded data removed]",
      "text/plain": [
       "<Figure size 640x480 with 1 Axes>"
      ]
     },
     "metadata": {},
     "output_type": "display_data"
    }
   ],
   "source": [
    "sns.boxplot(data = AMZN[\"Close\"])"
   ]
  },
  {
   "cell_type": "code",
   "execution_count": 41,
   "id": "ce0a5677",
   "metadata": {},
   "outputs": [
    {
     "data": {
      "text/plain": [
       "<Axes: >"
      ]
     },
     "execution_count": 41,
     "metadata": {},
     "output_type": "execute_result"
    },
    {
     "data": {
      "image/png": "[encoded data removed]",
      "text/plain": [
       "<Figure size 640x480 with 1 Axes>"
      ]
     },
     "metadata": {},
     "output_type": "display_data"
    }
   ],
   "source": [
    "sns.boxplot(data = AMZN[\"Volume\"])"
   ]
  },
  {
   "cell_type": "markdown",
   "id": "2b5211a4",
   "metadata": {},
   "source": [
    "XOM"
   ]
  },
  {
   "cell_type": "code",
   "execution_count": 43,
   "id": "b122ef2b",
   "metadata": {},
   "outputs": [
    {
     "data": {
      "text/plain": [
       "<Axes: >"
      ]
     },
     "execution_count": 43,
     "metadata": {},
     "output_type": "execute_result"
    },
    {
     "data": {
      "image/png": "[encoded data removed]",
      "text/plain": [
       "<Figure size 640x480 with 1 Axes>"
      ]
     },
     "metadata": {},
     "output_type": "display_data"
    }
   ],
   "source": [
    "sns.boxplot(data = XOM[\"Close\"])"
   ]
  },
  {
   "cell_type": "code",
   "execution_count": 44,
   "id": "ea2dae78",
   "metadata": {},
   "outputs": [
    {
     "data": {
      "text/plain": [
       "<Axes: >"
      ]
     },
     "execution_count": 44,
     "metadata": {},
     "output_type": "execute_result"
    },
    {
     "data": {
      "image/png": "[encoded data removed]",
      "text/plain": [
       "<Figure size 640x480 with 1 Axes>"
      ]
     },
     "metadata": {},
     "output_type": "display_data"
    }
   ],
   "source": [
    "sns.boxplot(data = XOM[\"Volume\"])"
   ]
  },
  {
   "cell_type": "markdown",
   "id": "b62ff6d6",
   "metadata": {},
   "source": [
    "JPM"
   ]
  },
  {
   "cell_type": "code",
   "execution_count": 45,
   "id": "d7784e24",
   "metadata": {},
   "outputs": [
    {
     "data": {
      "text/plain": [
       "<Axes: >"
      ]
     },
     "execution_count": 45,
     "metadata": {},
     "output_type": "execute_result"
    },
    {
     "data": {
      "image/png": "[encoded data removed]",
      "text/plain": [
       "<Figure size 640x480 with 1 Axes>"
      ]
     },
     "metadata": {},
     "output_type": "display_data"
    }
   ],
   "source": [
    "sns.boxplot(data = JPM[\"Volume\"])"
   ]
  },
  {
   "cell_type": "code",
   "execution_count": 46,
   "id": "e2055a28",
   "metadata": {},
   "outputs": [
    {
     "data": {
      "text/plain": [
       "<Axes: >"
      ]
     },
     "execution_count": 46,
     "metadata": {},
     "output_type": "execute_result"
    },
    {
     "data": {
      "image/png": "[encoded data removed]",
      "text/plain": [
       "<Figure size 640x480 with 1 Axes>"
      ]
     },
     "metadata": {},
     "output_type": "display_data"
    }
   ],
   "source": [
    "sns.boxplot(data = JPM[\"Close\"])"
   ]
  },
  {
   "cell_type": "markdown",
   "id": "037bb46b",
   "metadata": {},
   "source": [
    "GOOG"
   ]
  },
  {
   "cell_type": "code",
   "execution_count": 47,
   "id": "26339a73",
   "metadata": {},
   "outputs": [
    {
     "data": {
      "text/plain": [
       "<Axes: >"
      ]
     },
     "execution_count": 47,
     "metadata": {},
     "output_type": "execute_result"
    },
    {
     "data": {
      "image/png": "[encoded data removed]",
      "text/plain": [
       "<Figure size 640x480 with 1 Axes>"
      ]
     },
     "metadata": {},
     "output_type": "display_data"
    }
   ],
   "source": [
    "sns.boxplot(data = GOOG[\"Close\"])"
   ]
  },
  {
   "cell_type": "code",
   "execution_count": 48,
   "id": "68dc08a4",
   "metadata": {},
   "outputs": [
    {
     "data": {
      "text/plain": [
       "<Axes: >"
      ]
     },
     "execution_count": 48,
     "metadata": {},
     "output_type": "execute_result"
    },
    {
     "data": {
      "image/png": "[encoded data removed]",
      "text/plain": [
       "<Figure size 640x480 with 1 Axes>"
      ]
     },
     "metadata": {},
     "output_type": "display_data"
    }
   ],
   "source": [
    "sns.boxplot(data = GOOG[\"Volume\"])"
   ]
  },
  {
   "cell_type": "markdown",
   "id": "9ddc0da4",
   "metadata": {},
   "source": [
    "GME"
   ]
  },
  {
   "cell_type": "code",
   "execution_count": 49,
   "id": "b9dabed3",
   "metadata": {},
   "outputs": [
    {
     "data": {
      "text/plain": [
       "<Axes: >"
      ]
     },
     "execution_count": 49,
     "metadata": {},
     "output_type": "execute_result"
    },
    {
     "data": {
      "image/png": "[encoded data removed]",
      "text/plain": [
       "<Figure size 640x480 with 1 Axes>"
      ]
     },
     "metadata": {},
     "output_type": "display_data"
    }
   ],
   "source": [
    "sns.boxplot(data = GME[\"Close\"])"
   ]
  },
  {
   "cell_type": "code",
   "execution_count": 50,
   "id": "b421b02d",
   "metadata": {},
   "outputs": [
    {
     "data": {
      "text/plain": [
       "<Axes: >"
      ]
     },
     "execution_count": 50,
     "metadata": {},
     "output_type": "execute_result"
    },
    {
     "data": {
      "image/png": "[encoded data removed]",
      "text/plain": [
       "<Figure size 640x480 with 1 Axes>"
      ]
     },
     "metadata": {},
     "output_type": "display_data"
    }
   ],
   "source": [
    "sns.boxplot(data = GME[\"Volume\"])"
   ]
  },
  {
   "cell_type": "markdown",
   "id": "a2746826",
   "metadata": {},
   "source": [
    "generate train set"
   ]
  },
  {
   "cell_type": "code",
   "execution_count": 3,
   "id": "c813b547",
   "metadata": {},
   "outputs": [],
   "source": [
    "import pandas as pd"
   ]
  },
  {
   "cell_type": "code",
   "execution_count": 4,
   "id": "9458b12a",
   "metadata": {},
   "outputs": [],
   "source": [
    "ticker = [\"AMZN\",\"GOOG\",\"XOM\",\"JPM\",\"GME\"]\n",
    "df_init = pd.DataFrame()"
   ]
  },
  {
   "cell_type": "code",
   "execution_count": 5,
   "id": "a9d028ac",
   "metadata": {},
   "outputs": [
    {
     "ename": "FileNotFoundError",
     "evalue": "[Errno 2] No such file or directory: 'AMZN_feature.csv'",
     "output_type": "error",
     "traceback": [
      "\u001b[0;31m---------------------------------------------------------------------------\u001b[0m",
      "\u001b[0;31mFileNotFoundError\u001b[0m                         Traceback (most recent call last)",
      "Cell \u001b[0;32mIn[5], line 2\u001b[0m\n\u001b[1;32m      1\u001b[0m \u001b[38;5;28;01mfor\u001b[39;00m ticker_name \u001b[38;5;129;01min\u001b[39;00m ticker:\n\u001b[0;32m----> 2\u001b[0m     df \u001b[38;5;241m=\u001b[39m pd\u001b[38;5;241m.\u001b[39mread_csv(ticker_name\u001b[38;5;241m+\u001b[39m\u001b[38;5;124m\"\u001b[39m\u001b[38;5;124m_feature.csv\u001b[39m\u001b[38;5;124m\"\u001b[39m)\n\u001b[1;32m      3\u001b[0m     df[\u001b[38;5;124m\"\u001b[39m\u001b[38;5;124mname\u001b[39m\u001b[38;5;124m\"\u001b[39m] \u001b[38;5;241m=\u001b[39m ticker_name\n\u001b[1;32m      4\u001b[0m     df_temp \u001b[38;5;241m=\u001b[39m df[[\u001b[38;5;124m\"\u001b[39m\u001b[38;5;124mname\u001b[39m\u001b[38;5;124m\"\u001b[39m,\u001b[38;5;124m\"\u001b[39m\u001b[38;5;124mDate\u001b[39m\u001b[38;5;124m\"\u001b[39m,\u001b[38;5;124m\"\u001b[39m\u001b[38;5;124mvalue_to_predict\u001b[39m\u001b[38;5;124m\"\u001b[39m]]\n",
      "File \u001b[0;32m~/anaconda3/lib/python3.11/site-packages/pandas/io/parsers/readers.py:912\u001b[0m, in \u001b[0;36mread_csv\u001b[0;34m(filepath_or_buffer, sep, delimiter, header, names, index_col, usecols, dtype, engine, converters, true_values, false_values, skipinitialspace, skiprows, skipfooter, nrows, na_values, keep_default_na, na_filter, verbose, skip_blank_lines, parse_dates, infer_datetime_format, keep_date_col, date_parser, date_format, dayfirst, cache_dates, iterator, chunksize, compression, thousands, decimal, lineterminator, quotechar, quoting, doublequote, escapechar, comment, encoding, encoding_errors, dialect, on_bad_lines, delim_whitespace, low_memory, memory_map, float_precision, storage_options, dtype_backend)\u001b[0m\n\u001b[1;32m    899\u001b[0m kwds_defaults \u001b[38;5;241m=\u001b[39m _refine_defaults_read(\n\u001b[1;32m    900\u001b[0m     dialect,\n\u001b[1;32m    901\u001b[0m     delimiter,\n\u001b[0;32m   (...)\u001b[0m\n\u001b[1;32m    908\u001b[0m     dtype_backend\u001b[38;5;241m=\u001b[39mdtype_backend,\n\u001b[1;32m    909\u001b[0m )\n\u001b[1;32m    910\u001b[0m kwds\u001b[38;5;241m.\u001b[39mupdate(kwds_defaults)\n\u001b[0;32m--> 912\u001b[0m \u001b[38;5;28;01mreturn\u001b[39;00m _read(filepath_or_buffer, kwds)\n",
      "File \u001b[0;32m~/anaconda3/lib/python3.11/site-packages/pandas/io/parsers/readers.py:577\u001b[0m, in \u001b[0;36m_read\u001b[0;34m(filepath_or_buffer, kwds)\u001b[0m\n\u001b[1;32m    574\u001b[0m _validate_names(kwds\u001b[38;5;241m.\u001b[39mget(\u001b[38;5;124m\"\u001b[39m\u001b[38;5;124mnames\u001b[39m\u001b[38;5;124m\"\u001b[39m, \u001b[38;5;28;01mNone\u001b[39;00m))\n\u001b[1;32m    576\u001b[0m \u001b[38;5;66;03m# Create the parser.\u001b[39;00m\n\u001b[0;32m--> 577\u001b[0m parser \u001b[38;5;241m=\u001b[39m TextFileReader(filepath_or_buffer, \u001b[38;5;241m*\u001b[39m\u001b[38;5;241m*\u001b[39mkwds)\n\u001b[1;32m    579\u001b[0m \u001b[38;5;28;01mif\u001b[39;00m chunksize \u001b[38;5;129;01mor\u001b[39;00m iterator:\n\u001b[1;32m    580\u001b[0m     \u001b[38;5;28;01mreturn\u001b[39;00m parser\n",
      "File \u001b[0;32m~/anaconda3/lib/python3.11/site-packages/pandas/io/parsers/readers.py:1407\u001b[0m, in \u001b[0;36mTextFileReader.__init__\u001b[0;34m(self, f, engine, **kwds)\u001b[0m\n\u001b[1;32m   1404\u001b[0m     \u001b[38;5;28mself\u001b[39m\u001b[38;5;241m.\u001b[39moptions[\u001b[38;5;124m\"\u001b[39m\u001b[38;5;124mhas_index_names\u001b[39m\u001b[38;5;124m\"\u001b[39m] \u001b[38;5;241m=\u001b[39m kwds[\u001b[38;5;124m\"\u001b[39m\u001b[38;5;124mhas_index_names\u001b[39m\u001b[38;5;124m\"\u001b[39m]\n\u001b[1;32m   1406\u001b[0m \u001b[38;5;28mself\u001b[39m\u001b[38;5;241m.\u001b[39mhandles: IOHandles \u001b[38;5;241m|\u001b[39m \u001b[38;5;28;01mNone\u001b[39;00m \u001b[38;5;241m=\u001b[39m \u001b[38;5;28;01mNone\u001b[39;00m\n\u001b[0;32m-> 1407\u001b[0m \u001b[38;5;28mself\u001b[39m\u001b[38;5;241m.\u001b[39m_engine \u001b[38;5;241m=\u001b[39m \u001b[38;5;28mself\u001b[39m\u001b[38;5;241m.\u001b[39m_make_engine(f, \u001b[38;5;28mself\u001b[39m\u001b[38;5;241m.\u001b[39mengine)\n",
      "File \u001b[0;32m~/anaconda3/lib/python3.11/site-packages/pandas/io/parsers/readers.py:1661\u001b[0m, in \u001b[0;36mTextFileReader._make_engine\u001b[0;34m(self, f, engine)\u001b[0m\n\u001b[1;32m   1659\u001b[0m     \u001b[38;5;28;01mif\u001b[39;00m \u001b[38;5;124m\"\u001b[39m\u001b[38;5;124mb\u001b[39m\u001b[38;5;124m\"\u001b[39m \u001b[38;5;129;01mnot\u001b[39;00m \u001b[38;5;129;01min\u001b[39;00m mode:\n\u001b[1;32m   1660\u001b[0m         mode \u001b[38;5;241m+\u001b[39m\u001b[38;5;241m=\u001b[39m \u001b[38;5;124m\"\u001b[39m\u001b[38;5;124mb\u001b[39m\u001b[38;5;124m\"\u001b[39m\n\u001b[0;32m-> 1661\u001b[0m \u001b[38;5;28mself\u001b[39m\u001b[38;5;241m.\u001b[39mhandles \u001b[38;5;241m=\u001b[39m get_handle(\n\u001b[1;32m   1662\u001b[0m     f,\n\u001b[1;32m   1663\u001b[0m     mode,\n\u001b[1;32m   1664\u001b[0m     encoding\u001b[38;5;241m=\u001b[39m\u001b[38;5;28mself\u001b[39m\u001b[38;5;241m.\u001b[39moptions\u001b[38;5;241m.\u001b[39mget(\u001b[38;5;124m\"\u001b[39m\u001b[38;5;124mencoding\u001b[39m\u001b[38;5;124m\"\u001b[39m, \u001b[38;5;28;01mNone\u001b[39;00m),\n\u001b[1;32m   1665\u001b[0m     compression\u001b[38;5;241m=\u001b[39m\u001b[38;5;28mself\u001b[39m\u001b[38;5;241m.\u001b[39moptions\u001b[38;5;241m.\u001b[39mget(\u001b[38;5;124m\"\u001b[39m\u001b[38;5;124mcompression\u001b[39m\u001b[38;5;124m\"\u001b[39m, \u001b[38;5;28;01mNone\u001b[39;00m),\n\u001b[1;32m   1666\u001b[0m     memory_map\u001b[38;5;241m=\u001b[39m\u001b[38;5;28mself\u001b[39m\u001b[38;5;241m.\u001b[39moptions\u001b[38;5;241m.\u001b[39mget(\u001b[38;5;124m\"\u001b[39m\u001b[38;5;124mmemory_map\u001b[39m\u001b[38;5;124m\"\u001b[39m, \u001b[38;5;28;01mFalse\u001b[39;00m),\n\u001b[1;32m   1667\u001b[0m     is_text\u001b[38;5;241m=\u001b[39mis_text,\n\u001b[1;32m   1668\u001b[0m     errors\u001b[38;5;241m=\u001b[39m\u001b[38;5;28mself\u001b[39m\u001b[38;5;241m.\u001b[39moptions\u001b[38;5;241m.\u001b[39mget(\u001b[38;5;124m\"\u001b[39m\u001b[38;5;124mencoding_errors\u001b[39m\u001b[38;5;124m\"\u001b[39m, \u001b[38;5;124m\"\u001b[39m\u001b[38;5;124mstrict\u001b[39m\u001b[38;5;124m\"\u001b[39m),\n\u001b[1;32m   1669\u001b[0m     storage_options\u001b[38;5;241m=\u001b[39m\u001b[38;5;28mself\u001b[39m\u001b[38;5;241m.\u001b[39moptions\u001b[38;5;241m.\u001b[39mget(\u001b[38;5;124m\"\u001b[39m\u001b[38;5;124mstorage_options\u001b[39m\u001b[38;5;124m\"\u001b[39m, \u001b[38;5;28;01mNone\u001b[39;00m),\n\u001b[1;32m   1670\u001b[0m )\n\u001b[1;32m   1671\u001b[0m \u001b[38;5;28;01massert\u001b[39;00m \u001b[38;5;28mself\u001b[39m\u001b[38;5;241m.\u001b[39mhandles \u001b[38;5;129;01mis\u001b[39;00m \u001b[38;5;129;01mnot\u001b[39;00m \u001b[38;5;28;01mNone\u001b[39;00m\n\u001b[1;32m   1672\u001b[0m f \u001b[38;5;241m=\u001b[39m \u001b[38;5;28mself\u001b[39m\u001b[38;5;241m.\u001b[39mhandles\u001b[38;5;241m.\u001b[39mhandle\n",
      "File \u001b[0;32m~/anaconda3/lib/python3.11/site-packages/pandas/io/common.py:859\u001b[0m, in \u001b[0;36mget_handle\u001b[0;34m(path_or_buf, mode, encoding, compression, memory_map, is_text, errors, storage_options)\u001b[0m\n\u001b[1;32m    854\u001b[0m \u001b[38;5;28;01melif\u001b[39;00m \u001b[38;5;28misinstance\u001b[39m(handle, \u001b[38;5;28mstr\u001b[39m):\n\u001b[1;32m    855\u001b[0m     \u001b[38;5;66;03m# Check whether the filename is to be opened in binary mode.\u001b[39;00m\n\u001b[1;32m    856\u001b[0m     \u001b[38;5;66;03m# Binary mode does not support 'encoding' and 'newline'.\u001b[39;00m\n\u001b[1;32m    857\u001b[0m     \u001b[38;5;28;01mif\u001b[39;00m ioargs\u001b[38;5;241m.\u001b[39mencoding \u001b[38;5;129;01mand\u001b[39;00m \u001b[38;5;124m\"\u001b[39m\u001b[38;5;124mb\u001b[39m\u001b[38;5;124m\"\u001b[39m \u001b[38;5;129;01mnot\u001b[39;00m \u001b[38;5;129;01min\u001b[39;00m ioargs\u001b[38;5;241m.\u001b[39mmode:\n\u001b[1;32m    858\u001b[0m         \u001b[38;5;66;03m# Encoding\u001b[39;00m\n\u001b[0;32m--> 859\u001b[0m         handle \u001b[38;5;241m=\u001b[39m \u001b[38;5;28mopen\u001b[39m(\n\u001b[1;32m    860\u001b[0m             handle,\n\u001b[1;32m    861\u001b[0m             ioargs\u001b[38;5;241m.\u001b[39mmode,\n\u001b[1;32m    862\u001b[0m             encoding\u001b[38;5;241m=\u001b[39mioargs\u001b[38;5;241m.\u001b[39mencoding,\n\u001b[1;32m    863\u001b[0m             errors\u001b[38;5;241m=\u001b[39merrors,\n\u001b[1;32m    864\u001b[0m             newline\u001b[38;5;241m=\u001b[39m\u001b[38;5;124m\"\u001b[39m\u001b[38;5;124m\"\u001b[39m,\n\u001b[1;32m    865\u001b[0m         )\n\u001b[1;32m    866\u001b[0m     \u001b[38;5;28;01melse\u001b[39;00m:\n\u001b[1;32m    867\u001b[0m         \u001b[38;5;66;03m# Binary mode\u001b[39;00m\n\u001b[1;32m    868\u001b[0m         handle \u001b[38;5;241m=\u001b[39m \u001b[38;5;28mopen\u001b[39m(handle, ioargs\u001b[38;5;241m.\u001b[39mmode)\n",
      "\u001b[0;31mFileNotFoundError\u001b[0m: [Errno 2] No such file or directory: 'AMZN_feature.csv'"
     ]
    }
   ],
   "source": [
    "for ticker_name in ticker:\n",
    "    df = pd.read_csv(ticker_name+\"_feature.csv\")\n",
    "    df[\"name\"] = ticker_name\n",
    "    df_temp = df[[\"name\",\"Date\",\"value_to_predict\"]]\n",
    "    if len(df_init) == 0:\n",
    "        df_init = df_temp\n",
    "    else:\n",
    "        df_init = pd.concat([df_init,df_temp],axis =0)\n",
    "df_init.index = range(len(df_init))"
   ]
  },
  {
   "cell_type": "code",
   "execution_count": null,
   "id": "cedc4a95",
   "metadata": {},
   "outputs": [],
   "source": [
    "df_init.to_csv(\"train.csv\")"
   ]
  },
  {
   "cell_type": "code",
   "execution_count": null,
   "id": "ac48f65e",
   "metadata": {},
   "outputs": [],
   "source": []
  },
  {
   "cell_type": "code",
   "execution_count": null,
   "id": "f9c43fb3",
   "metadata": {},
   "outputs": [],
   "source": []
  },
  {
   "cell_type": "code",
   "execution_count": null,
   "id": "cca05485",
   "metadata": {},
   "outputs": [],
   "source": []
  }
 ],
 "metadata": {
  "kernelspec": {
   "display_name": "Python 3 (ipykernel)",
   "language": "python",
   "name": "python3"
  },
  "language_info": {
   "codemirror_mode": {
    "name": "ipython",
    "version": 3
   },
   "file_extension": ".py",
   "mimetype": "text/x-python",
   "name": "python",
   "nbconvert_exporter": "python",
   "pygments_lexer": "ipython3",
   "version": "3.11.5"
  }
 },
 "nbformat": 4,
 "nbformat_minor": 5
}
